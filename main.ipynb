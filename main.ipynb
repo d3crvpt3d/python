{
 "cells": [
  {
   "cell_type": "code",
   "execution_count": 1,
   "metadata": {},
   "outputs": [],
   "source": [
    "#\n",
    "import time\n",
    "from PIL import Image\n",
    "import numpy as np"
   ]
  },
  {
   "cell_type": "code",
   "execution_count": 2,
   "metadata": {},
   "outputs": [
    {
     "name": "stdout",
     "output_type": "stream",
     "text": [
      "(test.jpg) File : \n"
     ]
    },
    {
     "ename": "FileNotFoundError",
     "evalue": "[Errno 2] No such file or directory: 'test.jpg'",
     "output_type": "error",
     "traceback": [
      "\u001b[1;31m---------------------------------------------------------------------------\u001b[0m",
      "\u001b[1;31mFileNotFoundError\u001b[0m                         Traceback (most recent call last)",
      "\u001b[1;32m<ipython-input-2-9328e56088d1>\u001b[0m in \u001b[0;36m<module>\u001b[1;34m\u001b[0m\n\u001b[0;32m     15\u001b[0m \u001b[1;33m\u001b[0m\u001b[0m\n\u001b[0;32m     16\u001b[0m \u001b[1;31m##\u001b[0m\u001b[1;33m\u001b[0m\u001b[1;33m\u001b[0m\u001b[1;33m\u001b[0m\u001b[0m\n\u001b[1;32m---> 17\u001b[1;33m \u001b[0mpictur\u001b[0m \u001b[1;33m=\u001b[0m \u001b[0mImage\u001b[0m\u001b[1;33m.\u001b[0m\u001b[0mopen\u001b[0m\u001b[1;33m(\u001b[0m\u001b[0mstr\u001b[0m\u001b[1;33m(\u001b[0m\u001b[0mname\u001b[0m\u001b[1;33m)\u001b[0m\u001b[1;33m)\u001b[0m\u001b[1;33m\u001b[0m\u001b[1;33m\u001b[0m\u001b[0m\n\u001b[0m\u001b[0;32m     18\u001b[0m \u001b[0mwidth\u001b[0m\u001b[1;33m,\u001b[0m \u001b[0mheight\u001b[0m \u001b[1;33m=\u001b[0m \u001b[0mpictur\u001b[0m\u001b[1;33m.\u001b[0m\u001b[0msize\u001b[0m\u001b[1;33m\u001b[0m\u001b[1;33m\u001b[0m\u001b[0m\n",
      "\u001b[1;32mf:\\Anaconda\\lib\\site-packages\\PIL\\Image.py\u001b[0m in \u001b[0;36mopen\u001b[1;34m(fp, mode)\u001b[0m\n\u001b[0;32m   2807\u001b[0m \u001b[1;33m\u001b[0m\u001b[0m\n\u001b[0;32m   2808\u001b[0m     \u001b[1;32mif\u001b[0m \u001b[0mfilename\u001b[0m\u001b[1;33m:\u001b[0m\u001b[1;33m\u001b[0m\u001b[1;33m\u001b[0m\u001b[0m\n\u001b[1;32m-> 2809\u001b[1;33m         \u001b[0mfp\u001b[0m \u001b[1;33m=\u001b[0m \u001b[0mbuiltins\u001b[0m\u001b[1;33m.\u001b[0m\u001b[0mopen\u001b[0m\u001b[1;33m(\u001b[0m\u001b[0mfilename\u001b[0m\u001b[1;33m,\u001b[0m \u001b[1;34m\"rb\"\u001b[0m\u001b[1;33m)\u001b[0m\u001b[1;33m\u001b[0m\u001b[1;33m\u001b[0m\u001b[0m\n\u001b[0m\u001b[0;32m   2810\u001b[0m         \u001b[0mexclusive_fp\u001b[0m \u001b[1;33m=\u001b[0m \u001b[1;32mTrue\u001b[0m\u001b[1;33m\u001b[0m\u001b[1;33m\u001b[0m\u001b[0m\n\u001b[0;32m   2811\u001b[0m \u001b[1;33m\u001b[0m\u001b[0m\n",
      "\u001b[1;31mFileNotFoundError\u001b[0m: [Errno 2] No such file or directory: 'test.jpg'"
     ]
    }
   ],
   "source": [
    "##\n",
    "prot = False\n",
    "tmp_gesR = 0\n",
    "tmp_gesG = 0\n",
    "tmp_gesB = 0\n",
    "tmp_ges = tmp_gesR, tmp_gesG, tmp_gesB\n",
    "tmp_tmp_gesR = 0\n",
    "tmp_tmp_gesG = 0\n",
    "tmp_tmp_gesB = 0\n",
    "##\n",
    "print(\"(test.jpg) File : \")\n",
    "name = input()\n",
    "if(name == \"\"):\n",
    "    name = \"test.jpg\"\n",
    "\n",
    "##\n",
    "pictur = Image.open(str(name))\n",
    "width, height = pictur.size"
   ]
  },
  {
   "cell_type": "code",
   "execution_count": 3,
   "metadata": {},
   "outputs": [
    {
     "name": "stdout",
     "output_type": "stream",
     "text": [
      "\n",
      "Binning Faktor (even subdivide from width and height): \n"
     ]
    },
    {
     "ename": "NameError",
     "evalue": "name 'width' is not defined",
     "output_type": "error",
     "traceback": [
      "\u001b[1;31m---------------------------------------------------------------------------\u001b[0m",
      "\u001b[1;31mNameError\u001b[0m                                 Traceback (most recent call last)",
      "\u001b[1;32m<ipython-input-3-8a8187c277b5>\u001b[0m in \u001b[0;36m<module>\u001b[1;34m\u001b[0m\n\u001b[0;32m      5\u001b[0m \u001b[0mfaktor\u001b[0m \u001b[1;33m=\u001b[0m \u001b[0mint\u001b[0m\u001b[1;33m(\u001b[0m\u001b[0minput\u001b[0m\u001b[1;33m(\u001b[0m\u001b[1;33m)\u001b[0m\u001b[1;33m)\u001b[0m\u001b[1;33m\u001b[0m\u001b[1;33m\u001b[0m\u001b[0m\n\u001b[0;32m      6\u001b[0m \u001b[1;33m\u001b[0m\u001b[0m\n\u001b[1;32m----> 7\u001b[1;33m \u001b[1;32mif\u001b[0m\u001b[1;33m(\u001b[0m\u001b[0mwidth\u001b[0m \u001b[1;33m%\u001b[0m \u001b[0mint\u001b[0m\u001b[1;33m(\u001b[0m\u001b[0mfaktor\u001b[0m\u001b[1;33m)\u001b[0m \u001b[1;33m!=\u001b[0m \u001b[1;36m0\u001b[0m\u001b[1;33m)\u001b[0m\u001b[1;33m:\u001b[0m\u001b[1;33m\u001b[0m\u001b[1;33m\u001b[0m\u001b[0m\n\u001b[0m\u001b[0;32m      8\u001b[0m     \u001b[0mprint\u001b[0m\u001b[1;33m(\u001b[0m\u001b[1;34m\"Faktor is not an even divisor!!!\"\u001b[0m\u001b[1;33m)\u001b[0m\u001b[1;33m\u001b[0m\u001b[1;33m\u001b[0m\u001b[0m\n\u001b[0;32m      9\u001b[0m     \u001b[0mprint\u001b[0m\u001b[1;33m(\u001b[0m\u001b[1;34m\"\"\u001b[0m\u001b[1;33m)\u001b[0m\u001b[1;33m\u001b[0m\u001b[1;33m\u001b[0m\u001b[0m\n",
      "\u001b[1;31mNameError\u001b[0m: name 'width' is not defined"
     ]
    }
   ],
   "source": [
    "##\n",
    "\n",
    "print(\"\")\n",
    "print(\"Binning Faktor (even subdivide from width and height): \")\n",
    "faktor = int(input())\n",
    "\n",
    "if(width % int(faktor) != 0):\n",
    "    print(\"Faktor is not an even divisor!!!\")\n",
    "    print(\"\")\n",
    "    print(\"Faktor is now [2]\")\n",
    "    faktor = 2\n",
    "\n",
    "print(\"\")\n",
    "print(\"(y)Artifact protection? y/n:\")\n",
    "\n",
    "tobright = input()\n",
    "if(tobright == \"\"):\n",
    "\tprot = True\n",
    "elif(tobright == \"n\"):\n",
    "\tprot = False\n",
    "\n",
    "####\n",
    "start_time = time.time()\n",
    "####\n",
    "print(\"\")\n",
    "print(\"Converting [\"+str(name)+\"] with a faktor of [\"+str(faktor)+\"]...\")\n",
    "\n",
    "\n",
    "pixel_w = int(width / faktor)\n",
    "pixel_h = int(height / faktor)\n",
    "\n",
    "\n",
    "print(\"\")\n",
    "print(\"Size: \"+str(pixel_w)+\" x \"+str(pixel_h))\n",
    "\n",
    "\n",
    "tmp_gesR = 0\n",
    "tmp_gesG = 0\n",
    "tmp_gesB = 0\n",
    "tmp_ges = tmp_gesR, tmp_gesG, tmp_gesB\n",
    "tmp_tmp_gesR = 0\n",
    "tmp_tmp_gesG = 0\n",
    "tmp_tmp_gesB = 0\n",
    "\n",
    "newimgarray = np.zeros((pixel_h, pixel_w, 3))"
   ]
  },
  {
   "cell_type": "code",
   "execution_count": 4,
   "metadata": {},
   "outputs": [
    {
     "ename": "NameError",
     "evalue": "name 'pixel_h' is not defined",
     "output_type": "error",
     "traceback": [
      "\u001b[1;31m---------------------------------------------------------------------------\u001b[0m",
      "\u001b[1;31mNameError\u001b[0m                                 Traceback (most recent call last)",
      "\u001b[1;32m<ipython-input-4-0f34b3c5ee94>\u001b[0m in \u001b[0;36m<module>\u001b[1;34m\u001b[0m\n\u001b[0;32m      1\u001b[0m \u001b[1;31m#select main pixel\u001b[0m\u001b[1;33m\u001b[0m\u001b[1;33m\u001b[0m\u001b[1;33m\u001b[0m\u001b[0m\n\u001b[1;32m----> 2\u001b[1;33m \u001b[1;32mfor\u001b[0m \u001b[0my\u001b[0m \u001b[1;32min\u001b[0m \u001b[0mrange\u001b[0m\u001b[1;33m(\u001b[0m \u001b[0mpixel_h\u001b[0m \u001b[1;33m)\u001b[0m\u001b[1;33m:\u001b[0m\u001b[1;33m\u001b[0m\u001b[1;33m\u001b[0m\u001b[0m\n\u001b[0m\u001b[0;32m      3\u001b[0m \u001b[1;33m\u001b[0m\u001b[0m\n\u001b[0;32m      4\u001b[0m         \u001b[1;32mfor\u001b[0m \u001b[0mx\u001b[0m \u001b[1;32min\u001b[0m \u001b[0mrange\u001b[0m\u001b[1;33m(\u001b[0m \u001b[0mpixel_w\u001b[0m \u001b[1;33m)\u001b[0m\u001b[1;33m:\u001b[0m\u001b[1;33m\u001b[0m\u001b[1;33m\u001b[0m\u001b[0m\n\u001b[0;32m      5\u001b[0m \u001b[1;33m\u001b[0m\u001b[0m\n",
      "\u001b[1;31mNameError\u001b[0m: name 'pixel_h' is not defined"
     ]
    }
   ],
   "source": [
    "#select main pixel\n",
    "for y in range( pixel_h ):\n",
    "\n",
    "\tfor x in range( pixel_w ):\n",
    "\n",
    "\t\t#get pixel value from 0.0, from 0.+1, from +1.0, from +1.+1\n",
    "\t\ttmp_tmp_gesR = 0\n",
    "\t\ttmp_tmp_gesG = 0\n",
    "\t\ttmp_tmp_gesB = 0\n",
    "\n",
    "\t\txtmp,ytmp = x*faktor,y*faktor\n",
    "\n",
    "\n",
    "\t\tfor i in range(faktor):\n",
    "\t\t\tfor j in range(faktor):\n",
    "\t\t\t\t\n",
    "\t\t\t\ttmp_gesR, tmp_gesG, tmp_gesB = pictur.getpixel((xtmp+i,ytmp+j)) \n",
    "\t\t\t\ttmp_tmp_gesR, tmp_tmp_gesG, tmp_tmp_gesB = tmp_tmp_gesR + tmp_gesR, tmp_tmp_gesG + tmp_gesG, tmp_tmp_gesB + tmp_gesB\n",
    "\n",
    "\t\t#too bright protect\n",
    "\t\tif(prot==False):\n",
    "\t\t\tnewimgarray[y][x][0] = tmp_tmp_gesR\n",
    "\t\t\tnewimgarray[y][x][1] = tmp_tmp_gesG\n",
    "\t\t\tnewimgarray[y][x][2] = tmp_tmp_gesB\n",
    "\t\telif(tmp_tmp_gesR > 255):\n",
    "\t\t\tnewimgarray[y][x][0] = tmp_tmp_gesR / faktor\n",
    "\t\t\tnewimgarray[y][x][1] = tmp_tmp_gesG / faktor\n",
    "\t\t\tnewimgarray[y][x][2] = tmp_tmp_gesB / faktor\n",
    "\t\telif(tmp_tmp_gesG > 255):\n",
    "\t\t\tnewimgarray[y][x][0] = tmp_tmp_gesR / faktor\n",
    "\t\t\tnewimgarray[y][x][1] = tmp_tmp_gesG / faktor\n",
    "\t\t\tnewimgarray[y][x][2] = tmp_tmp_gesB / faktor\n",
    "\t\telif(tmp_tmp_gesB > 255):\n",
    "\t\t\tnewimgarray[y][x][0] = tmp_tmp_gesR / faktor\n",
    "\t\t\tnewimgarray[y][x][1] = tmp_tmp_gesG / faktor\n",
    "\t\t\tnewimgarray[y][x][2] = tmp_tmp_gesB / faktor\n",
    "\t\telse:\n",
    "\t\t\tnewimgarray[y][x][0] = tmp_tmp_gesR\n",
    "\t\t\tnewimgarray[y][x][1] = tmp_tmp_gesG\n",
    "\t\t\tnewimgarray[y][x][2] = tmp_tmp_gesB\n",
    "##\n",
    "Image.fromarray((newimgarray).astype('uint8'), mode='RGB').save(str(name)+'_x'+str(faktor)+'_Vsensor.png')\n",
    "####\n",
    "end_time = time.time()\n",
    "####\n",
    "print(\"Time Elapsed: \"+str(end_time-start_time)+\"s\")"
   ]
  },
  {
   "cell_type": "code",
   "execution_count": 5,
   "metadata": {},
   "outputs": [
    {
     "name": "stdout",
     "output_type": "stream",
     "text": [
      "Done...\n"
     ]
    },
    {
     "data": {
      "text/plain": [
       "''"
      ]
     },
     "execution_count": 5,
     "metadata": {},
     "output_type": "execute_result"
    }
   ],
   "source": [
    "print(\"Done...\")\n",
    "input()"
   ]
  }
 ],
 "metadata": {
  "kernelspec": {
   "display_name": "Python 3.8.8 ('base')",
   "language": "python",
   "name": "python3"
  },
  "language_info": {
   "codemirror_mode": {
    "name": "ipython",
    "version": 3
   },
   "file_extension": ".py",
   "mimetype": "text/x-python",
   "name": "python",
   "nbconvert_exporter": "python",
   "pygments_lexer": "ipython3",
   "version": "3.8.8"
  },
  "orig_nbformat": 4,
  "vscode": {
   "interpreter": {
    "hash": "a5d6c2be6262c78dadbf075e7ed7eef3fc1090c1044fdcff36d11e01ba01e819"
   }
  }
 },
 "nbformat": 4,
 "nbformat_minor": 2
}
