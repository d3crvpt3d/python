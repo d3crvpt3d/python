{
 "cells": [
  {
   "cell_type": "code",
   "execution_count": 6,
   "metadata": {},
   "outputs": [],
   "source": [
    "#\n",
    "import time\n",
    "from PIL import Image\n",
    "import numpy as np"
   ]
  },
  {
   "cell_type": "code",
   "execution_count": 7,
   "metadata": {},
   "outputs": [
    {
     "name": "stdout",
     "output_type": "stream",
     "text": [
      "(test.jpg) File : \n"
     ]
    }
   ],
   "source": [
    "##\n",
    "print(\"(test.jpg) File : \")\n",
    "name = input()\n",
    "if(name == \"\"):\n",
    "    name = \"test.jpg\"\n",
    "\n",
    "##\n",
    "pictur = Image.open(str(name))\n",
    "width, height = pictur.size"
   ]
  },
  {
   "cell_type": "code",
   "execution_count": 8,
   "metadata": {},
   "outputs": [
    {
     "name": "stdout",
     "output_type": "stream",
     "text": [
      "\n",
      "Binning Faktor (even subdivide from width and height): \n",
      "\n",
      "Converting [test.jpg] with a faktor of [2]...\n",
      "\n",
      "Size: 8 x 8\n"
     ]
    }
   ],
   "source": [
    "##\n",
    "\n",
    "print(\"\")\n",
    "print(\"Binning Faktor (even subdivide from width and height): \")\n",
    "faktor = int(input())\n",
    "\n",
    "if(width % int(faktor) != 0):\n",
    "    print(\"Faktor is not an even divisor!!!\")\n",
    "    print(\"\")\n",
    "    print(\"Faktor is now [2]\")\n",
    "    faktor = 2\n",
    "\n",
    "####\n",
    "start_time = time.time()\n",
    "####\n",
    "print(\"\")\n",
    "print(\"Converting [\"+str(name)+\"] with a faktor of [\"+str(faktor)+\"]...\")\n",
    "\n",
    "\n",
    "pixel_w = int(width / faktor)\n",
    "pixel_h = int(height / faktor)\n",
    "\n",
    "\n",
    "print(\"\")\n",
    "print(\"Size: \"+str(pixel_w)+\" x \"+str(pixel_h))\n",
    "\n",
    "\n",
    "tmp_gesR = 0\n",
    "tmp_gesG = 0\n",
    "tmp_gesB = 0\n",
    "tmp_ges = tmp_gesR, tmp_gesG, tmp_gesB\n",
    "tmp_tmp_gesR = 0\n",
    "tmp_tmp_gesG = 0\n",
    "tmp_tmp_gesB = 0\n",
    "\n",
    "newimgarray = np.zeros((pixel_h, pixel_w, 3))"
   ]
  },
  {
   "cell_type": "code",
   "execution_count": 11,
   "metadata": {},
   "outputs": [
    {
     "name": "stdout",
     "output_type": "stream",
     "text": [
      "Time Elapsed: 26.180026054382324s\n"
     ]
    }
   ],
   "source": [
    "#select main pixel\n",
    "for y in range( pixel_h ):\n",
    "\n",
    "\tfor x in range( pixel_w ):\n",
    "\n",
    "\t\t#get pixel value from 0.0, from 0.+1, from +1.0, from +1.+1\n",
    "\t\ttmp_tmp_gesR = 0\n",
    "\t\ttmp_tmp_gesG = 0\n",
    "\t\ttmp_tmp_gesB = 0\n",
    "\n",
    "\t\txtmp,ytmp = x*faktor,y*faktor\n",
    "\n",
    "\n",
    "\t\tfor i in range(faktor):\n",
    "\t\t\tfor j in range(faktor):\n",
    "\t\t\t\t\n",
    "\t\t\t\ttmp_gesR, tmp_gesG, tmp_gesB = pictur.getpixel((xtmp+i,ytmp+j)) \n",
    "\t\t\t\ttmp_tmp_gesR, tmp_tmp_gesG, tmp_tmp_gesB = tmp_tmp_gesR + tmp_gesR, tmp_tmp_gesG + tmp_gesG, tmp_tmp_gesB + tmp_gesB\n",
    "\n",
    "\t\tnewimgarray[y][x][0] = tmp_tmp_gesR\n",
    "\t\tnewimgarray[y][x][1] = tmp_tmp_gesG\n",
    "\t\tnewimgarray[y][x][2] = tmp_tmp_gesB\n",
    "##\n",
    "Image.fromarray((newimgarray).astype('uint8'), mode='RGB').save(str(name)+'_x'+str(faktor)+'_Vsensor.png')\n",
    "####\n",
    "end_time = time.time()\n",
    "####\n",
    "print(\"Time Elapsed: \"+str(end_time-start_time)+\"s\")"
   ]
  },
  {
   "cell_type": "code",
   "execution_count": 12,
   "metadata": {},
   "outputs": [
    {
     "name": "stdout",
     "output_type": "stream",
     "text": [
      "Done...\n"
     ]
    },
    {
     "data": {
      "text/plain": [
       "''"
      ]
     },
     "execution_count": 12,
     "metadata": {},
     "output_type": "execute_result"
    }
   ],
   "source": [
    "print(\"Done...\")\n",
    "input()"
   ]
  }
 ],
 "metadata": {
  "kernelspec": {
   "display_name": "Python 3.8.8 ('base')",
   "language": "python",
   "name": "python3"
  },
  "language_info": {
   "codemirror_mode": {
    "name": "ipython",
    "version": 3
   },
   "file_extension": ".py",
   "mimetype": "text/x-python",
   "name": "python",
   "nbconvert_exporter": "python",
   "pygments_lexer": "ipython3",
   "version": "3.8.8"
  },
  "orig_nbformat": 4,
  "vscode": {
   "interpreter": {
    "hash": "a5d6c2be6262c78dadbf075e7ed7eef3fc1090c1044fdcff36d11e01ba01e819"
   }
  }
 },
 "nbformat": 4,
 "nbformat_minor": 2
}
