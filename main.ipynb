{
 "cells": [
  {
   "cell_type": "code",
   "execution_count": 62,
   "metadata": {},
   "outputs": [],
   "source": [
    "from PIL import Image\n",
    "import numpy as np"
   ]
  },
  {
   "cell_type": "code",
   "execution_count": 72,
   "metadata": {},
   "outputs": [
    {
     "name": "stdout",
     "output_type": "stream",
     "text": [
      "(test.jpg) File : \n",
      "\n",
      "Image = test.jpg\n",
      "\n",
      "(2) Binning Faktor (even subdivide from width and height): \n",
      "\n",
      "Faktor = 2\n",
      "\n",
      "Converting [test.jpg] with a faktor of [2]...\n",
      "\n",
      "Size: 16 x 16\n"
     ]
    }
   ],
   "source": [
    "\n",
    "\n",
    "\n",
    "print(\"(test.jpg) File : \")\n",
    "name = input()\n",
    "if(name == \"\"):\n",
    "    name = \"test.jpg\"\n",
    "print(\"\")\n",
    "print(\"Image = \"+str(name))\n",
    "\n",
    "##\n",
    "pictur = Image.open(str(name))\n",
    "width, height = pictur.size\n",
    "##\n",
    "\n",
    "print(\"\")\n",
    "print(\"(2) Binning Faktor (even subdivide from width and height): \")\n",
    "faktor = input()\n",
    "if(faktor == \"\"):\n",
    "    faktor = 2\n",
    "\n",
    "if(width % int(faktor) != 0):\n",
    "    print(\"\")\n",
    "    print(\"Faktor is not an even divisor!!!\")\n",
    "    print(\"\")\n",
    "    print(\"Faktor is now [2]\")\n",
    "    faktor = 2\n",
    "\n",
    "print(\"\")\n",
    "print(\"Faktor = \"+str(faktor))\n",
    "\n",
    "print(\"\")\n",
    "print(\"Converting [\"+str(name)+\"] with a faktor of [\"+str(faktor)+\"]...\")\n",
    "\n",
    "print(\"\")\n",
    "print(\"Size: \"+str(width)+\" x \"+str(height))"
   ]
  },
  {
   "cell_type": "code",
   "execution_count": 73,
   "metadata": {},
   "outputs": [],
   "source": [
    "tmp_gesR = 0\n",
    "tmp_gesG = 0\n",
    "tmp_gesB = 0\n",
    "tmp_ges = tmp_gesR, tmp_gesG, tmp_gesB\n",
    "tmp_tmp_gesR = 0\n",
    "tmp_tmp_gesG = 0\n",
    "tmp_tmp_gesB = 0\n",
    "\n",
    "newimgarray = np.zeros((int(height / faktor), int(width / faktor), 3))"
   ]
  },
  {
   "cell_type": "code",
   "execution_count": 76,
   "metadata": {},
   "outputs": [
    {
     "name": "stdout",
     "output_type": "stream",
     "text": [
      "(1, 1, 1)\n",
      "(3, 3, 3)\n",
      "(3, 3, 3)\n",
      "(4, 4, 4)\n",
      "[[[ 11.  11.  11.]\n",
      "  [ 23.  23.  23.]\n",
      "  [ 33.  33.  33.]\n",
      "  [ 45.  45.  45.]\n",
      "  [ 58.  58.  58.]\n",
      "  [ 74.  74.  74.]\n",
      "  [ 84.  84.  84.]\n",
      "  [ 92.  92.  92.]]\n",
      "\n",
      " [[ 23.  23.  23.]\n",
      "  [ 35.  35.  35.]\n",
      "  [ 45.  45.  45.]\n",
      "  [ 57.  57.  57.]\n",
      "  [ 68.  68.  68.]\n",
      "  [ 82.  82.  82.]\n",
      "  [ 92.  92.  92.]\n",
      "  [104. 104. 104.]]\n",
      "\n",
      " [[ 33.  33.  33.]\n",
      "  [ 45.  45.  45.]\n",
      "  [ 56.  56.  56.]\n",
      "  [ 68.  68.  68.]\n",
      "  [ 79.  79.  79.]\n",
      "  [ 91.  91.  91.]\n",
      "  [104. 104. 104.]\n",
      "  [118. 118. 118.]]\n",
      "\n",
      " [[ 45.  45.  45.]\n",
      "  [ 57.  57.  57.]\n",
      "  [ 68.  68.  68.]\n",
      "  [ 80.  80.  80.]\n",
      "  [ 94.  94.  94.]\n",
      "  [105. 105. 105.]\n",
      "  [118. 118. 118.]\n",
      "  [136. 136. 136.]]\n",
      "\n",
      " [[ 60.  60.  60.]\n",
      "  [ 68.  68.  68.]\n",
      "  [ 79.  79.  79.]\n",
      "  [ 93.  93.  93.]\n",
      "  [104. 104. 104.]\n",
      "  [116. 116. 116.]\n",
      "  [134. 134. 134.]\n",
      "  [156. 156. 156.]]\n",
      "\n",
      " [[ 70.  70.  70.]\n",
      "  [ 81.  81.  81.]\n",
      "  [ 92.  92.  92.]\n",
      "  [107. 107. 107.]\n",
      "  [121. 121. 121.]\n",
      "  [136. 136. 136.]\n",
      "  [155. 155. 155.]\n",
      "  [175. 175. 175.]]\n",
      "\n",
      " [[ 80.  80.  80.]\n",
      "  [ 93.  93.  93.]\n",
      "  [104. 104. 104.]\n",
      "  [119. 119. 119.]\n",
      "  [136. 136. 136.]\n",
      "  [156. 156. 156.]\n",
      "  [176. 176. 176.]\n",
      "  [198. 198. 198.]]\n",
      "\n",
      " [[ 92.  92.  92.]\n",
      "  [105. 105. 105.]\n",
      "  [118. 118. 118.]\n",
      "  [133. 133. 133.]\n",
      "  [152. 152. 152.]\n",
      "  [174. 174. 174.]\n",
      "  [198. 198. 198.]\n",
      "  [216. 216. 216.]]]\n"
     ]
    }
   ],
   "source": [
    "print(pictur.getpixel((0,0)))\n",
    "print(pictur.getpixel((1,0)))\n",
    "print(pictur.getpixel((0,1)))\n",
    "print(pictur.getpixel((1,1)))\n",
    "#select main pixel\n",
    "for y in range( int(width / faktor) ):\n",
    "\n",
    "\tfor x in range( int(height  / faktor) ):\n",
    "\n",
    "\t\t#get pixel value from 0.0, from 0.+1, from +1.0, from +1.+1\n",
    "\t\ttmp_tmp_gesR = 0\n",
    "\t\ttmp_tmp_gesG = 0\n",
    "\t\ttmp_tmp_gesB = 0\n",
    "\n",
    "\t\txtmp,ytmp = x*faktor,y*faktor\n",
    "\t\t\n",
    "\t\tfor i in range(faktor):\n",
    "\t\t\tfor j in range(faktor):\n",
    "\t\t\t\t\n",
    "\t\t\t\ttmp_gesR, tmp_gesG, tmp_gesB = pictur.getpixel((xtmp+i,ytmp+j)) \n",
    "\t\t\t\ttmp_tmp_gesR, tmp_tmp_gesG, tmp_tmp_gesB = tmp_tmp_gesR + tmp_gesR, tmp_tmp_gesG + tmp_gesG, tmp_tmp_gesB + tmp_gesB\n",
    "\n",
    "\t\tnewimgarray[y][x][0] = tmp_tmp_gesR\n",
    "\t\tnewimgarray[y][x][1] = tmp_tmp_gesG\n",
    "\t\tnewimgarray[y][x][2] = tmp_tmp_gesB\n",
    "##\n",
    "print(newimgarray)"
   ]
  },
  {
   "cell_type": "code",
   "execution_count": 75,
   "metadata": {},
   "outputs": [],
   "source": [
    "#newimg = Image.fromarray(newimgarray, )\n",
    "#newimg.save(str(name), \"JPEG\")\n",
    "\n",
    "Image.fromarray((newimgarray).astype('uint8'), mode='RGB').save('pic2.png')"
   ]
  }
 ],
 "metadata": {
  "kernelspec": {
   "display_name": "Python 3.8.8 ('base')",
   "language": "python",
   "name": "python3"
  },
  "language_info": {
   "codemirror_mode": {
    "name": "ipython",
    "version": 3
   },
   "file_extension": ".py",
   "mimetype": "text/x-python",
   "name": "python",
   "nbconvert_exporter": "python",
   "pygments_lexer": "ipython3",
   "version": "3.8.8"
  },
  "orig_nbformat": 4,
  "vscode": {
   "interpreter": {
    "hash": "a5d6c2be6262c78dadbf075e7ed7eef3fc1090c1044fdcff36d11e01ba01e819"
   }
  }
 },
 "nbformat": 4,
 "nbformat_minor": 2
}
